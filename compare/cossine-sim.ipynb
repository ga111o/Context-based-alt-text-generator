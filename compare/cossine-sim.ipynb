{
 "cells": [
  {
   "cell_type": "code",
   "execution_count": 61,
   "metadata": {},
   "outputs": [],
   "source": [
    "from langchain.embeddings import OllamaEmbeddings, OpenAIEmbeddings\n",
    "from langchain.vectorstores import FAISS"
   ]
  },
  {
   "cell_type": "markdown",
   "metadata": {},
   "source": [
    "https://python.langchain.com/v0.1/docs/integrations/vectorstores/faiss/\n"
   ]
  },
  {
   "cell_type": "code",
   "execution_count": 83,
   "metadata": {},
   "outputs": [],
   "source": [
    "# ollama3:8b는 뭔가뭔가 굉장히 이상하게 나옴\n",
    "# ollama 다른 모델 쓰거나\n",
    "# gpt 써야할듯\n",
    "embeddings = OpenAIEmbeddings()\n",
    "\n",
    "texts = [\"this is txt1, i luv large language model and artificial intelligence\", \"today is mon, june 3\", \"i love deep learning\"]\n",
    "out = FAISS.from_texts(texts, embeddings)"
   ]
  },
  {
   "cell_type": "code",
   "execution_count": 84,
   "metadata": {},
   "outputs": [
    {
     "name": "stdout",
     "output_type": "stream",
     "text": [
      "3\n",
      "0 (Document(page_content='i love deep learning'), 0.17939958)\n",
      "1 (Document(page_content='this is txt1, i luv large language model and artificial intelligence'), 0.38358504)\n",
      "2 (Document(page_content='today is mon, june 3'), 0.51817214)\n"
     ]
    }
   ],
   "source": [
    "print(out.index.ntotal)\n",
    "test = out.similarity_search_with_score(\"deep learning\")\n",
    "for i in range(0,3):\n",
    "  print(i, test[i])"
   ]
  }
 ],
 "metadata": {
  "kernelspec": {
   "display_name": "env",
   "language": "python",
   "name": "python3"
  },
  "language_info": {
   "codemirror_mode": {
    "name": "ipython",
    "version": 3
   },
   "file_extension": ".py",
   "mimetype": "text/x-python",
   "name": "python",
   "nbconvert_exporter": "python",
   "pygments_lexer": "ipython3",
   "version": "3.11.9"
  }
 },
 "nbformat": 4,
 "nbformat_minor": 2
}
