{
 "cells": [
  {
   "cell_type": "code",
   "execution_count": 8,
   "metadata": {},
   "outputs": [],
   "source": [
    "from langchain_community.document_loaders import ImageCaptionLoader\n",
    "from tempfile import NamedTemporaryFile\n",
    "\n",
    "from langchain.agents import initialize_agent\n",
    "from langchain.chat_models import ChatOllama\n",
    "from langchain.chains.conversation.memory import ConversationBufferWindowMemory\n",
    "\n",
    "from langchain.tools import BaseTool\n",
    "from transformers import BlipProcessor, BlipForConditionalGeneration, DetrImageProcessor, DetrForObjectDetection\n",
    "from PIL import Image\n",
    "import torch\n",
    "\n",
    "from langchain.callbacks import StreamingStdOutCallbackHandler\n",
    "\n",
    "import os"
   ]
  },
  {
   "cell_type": "code",
   "execution_count": null,
   "metadata": {},
   "outputs": [],
   "source": [
    "import os\n",
    "import requests\n",
    "from bs4 import BeautifulSoup\n",
    "from mimetypes import guess_extension\n",
    "from urllib.parse import urljoin  \n",
    "\n",
    "base_url = \"http://127.0.0.1:8123/\"  \n",
    "output_folder = \"./imgs\"\n",
    "\n",
    "if not os.path.exists(output_folder):\n",
    "    os.makedirs(output_folder)\n",
    "\n",
    "response = requests.get(base_url)\n",
    "soup = BeautifulSoup(response.content, \"html.parser\")\n",
    "\n",
    "img_tags = soup.find_all(\"img\")\n",
    "\n",
    "for i, img in enumerate(img_tags):\n",
    "    if not img.has_attr('alt'):\n",
    "        img_url = img.get(\"src\")\n",
    "        if img_url:\n",
    "            full_img_url = urljoin(base_url, img_url)  \n",
    "            img_response = requests.get(full_img_url, stream=True)\n",
    "            img_content_type = img_response.headers['Content-Type']\n",
    "            img_extension = guess_extension(img_content_type)\n",
    "            img_name = f\"{i}{img_extension}\"\n",
    "            img_path = os.path.join(output_folder, img_name)\n",
    "            with open(img_path, \"wb\") as img_file:\n",
    "                for chunk in img_response.iter_content(chunk_size=8192):\n",
    "                    img_file.write(chunk)\n",
    "            print(f\"다운로드: {img_path}\")\n",
    "\n",
    "print(\"done!\")\n"
   ]
  },
  {
   "cell_type": "code",
   "execution_count": 14,
   "metadata": {},
   "outputs": [
    {
     "name": "stdout",
     "output_type": "stream",
     "text": [
      "0.jpg\n",
      "2.jpg\n"
     ]
    }
   ],
   "source": [
    "img_path = './imgs'\n",
    "\n",
    "img_url_list = [f for f in os.listdir(img_path) if os.path.isfile(os.path.join(img_path, f))]\n",
    "\n",
    "\n",
    "for i in img_url_list:\n",
    "  print(i)"
   ]
  },
  {
   "cell_type": "code",
   "execution_count": 15,
   "metadata": {},
   "outputs": [
    {
     "name": "stderr",
     "output_type": "stream",
     "text": [
      "/home/ga111o/document/MarkDown/kwu-idea-lab/projects/add-alt-using-llm/env/lib/python3.11/site-packages/huggingface_hub/file_download.py:1132: FutureWarning: `resume_download` is deprecated and will be removed in version 1.0.0. Downloads always resume when possible. If you want to force a new download, use `force_download=True`.\n",
      "  warnings.warn(\n",
      "/home/ga111o/document/MarkDown/kwu-idea-lab/projects/add-alt-using-llm/env/lib/python3.11/site-packages/transformers/generation/utils.py:1141: UserWarning: Using the model-agnostic default `max_length` (=20) to control the generation length. We recommend setting `max_new_tokens` to control the maximum length of the generation.\n",
      "  warnings.warn(\n"
     ]
    },
    {
     "data": {
      "text/plain": [
       "Document(page_content=\"an image of a girl with a sword and text that reads, i'ver, i\", metadata={'image_path': '0.jpg'})"
      ]
     },
     "execution_count": 15,
     "metadata": {},
     "output_type": "execute_result"
    }
   ],
   "source": [
    "loader = ImageCaptionLoader(images=img_url_list)\n",
    "list_docs = loader.load()\n",
    "# list_docs\n",
    "\n",
    "test = list_docs[0]\n",
    "test"
   ]
  },
  {
   "cell_type": "code",
   "execution_count": 9,
   "metadata": {},
   "outputs": [],
   "source": [
    "os.remove(\"./0.jpg\")"
   ]
  },
  {
   "cell_type": "code",
   "execution_count": null,
   "metadata": {},
   "outputs": [],
   "source": [
    "\n",
    "model = ChatOllama(\n",
    "    model = \"llama3:8b\",\n",
    "    temperature=0.1,\n",
    "    streaming=True,\n",
    "    callbacks=[StreamingStdOutCallbackHandler()]\n",
    ")"
   ]
  }
 ],
 "metadata": {
  "kernelspec": {
   "display_name": "env",
   "language": "python",
   "name": "python3"
  },
  "language_info": {
   "codemirror_mode": {
    "name": "ipython",
    "version": 3
   },
   "file_extension": ".py",
   "mimetype": "text/x-python",
   "name": "python",
   "nbconvert_exporter": "python",
   "pygments_lexer": "ipython3",
   "version": "3.11.9"
  }
 },
 "nbformat": 4,
 "nbformat_minor": 2
}
